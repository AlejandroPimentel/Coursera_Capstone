{
    "cells": [
        {
            "cell_type": "markdown",
            "metadata": {},
            "source": "### Geocoding Toronto Neighborhoods"
        },
        {
            "cell_type": "markdown",
            "metadata": {},
            "source": "First I install the needed packages. Beautifulsoup4 and lxml for webscrapping and geocoder for, well, geocoding."
        },
        {
            "cell_type": "code",
            "execution_count": 1,
            "metadata": {},
            "outputs": [
                {
                    "name": "stdout",
                    "output_type": "stream",
                    "text": "Requirement already satisfied: beautifulsoup4 in /opt/conda/envs/Python36/lib/python3.6/site-packages (4.7.1)\nRequirement already satisfied: soupsieve>=1.2 in /opt/conda/envs/Python36/lib/python3.6/site-packages (from beautifulsoup4) (1.7.1)\nRequirement already satisfied: lxml in /opt/conda/envs/Python36/lib/python3.6/site-packages (4.3.1)\nRequirement already satisfied: geocoder in /opt/conda/envs/Python36/lib/python3.6/site-packages (1.38.1)\nRequirement already satisfied: future in /opt/conda/envs/Python36/lib/python3.6/site-packages (from geocoder) (0.17.1)\nRequirement already satisfied: requests in /opt/conda/envs/Python36/lib/python3.6/site-packages (from geocoder) (2.21.0)\nRequirement already satisfied: click in /opt/conda/envs/Python36/lib/python3.6/site-packages (from geocoder) (7.0)\nRequirement already satisfied: ratelim in /opt/conda/envs/Python36/lib/python3.6/site-packages (from geocoder) (0.1.6)\nRequirement already satisfied: six in /opt/conda/envs/Python36/lib/python3.6/site-packages (from geocoder) (1.12.0)\nRequirement already satisfied: idna<2.9,>=2.5 in /opt/conda/envs/Python36/lib/python3.6/site-packages (from requests->geocoder) (2.8)\nRequirement already satisfied: certifi>=2017.4.17 in /opt/conda/envs/Python36/lib/python3.6/site-packages (from requests->geocoder) (2019.11.28)\nRequirement already satisfied: urllib3<1.25,>=1.21.1 in /opt/conda/envs/Python36/lib/python3.6/site-packages (from requests->geocoder) (1.24.1)\nRequirement already satisfied: chardet<3.1.0,>=3.0.2 in /opt/conda/envs/Python36/lib/python3.6/site-packages (from requests->geocoder) (3.0.4)\nRequirement already satisfied: decorator in /opt/conda/envs/Python36/lib/python3.6/site-packages (from ratelim->geocoder) (4.3.2)\n"
                }
            ],
            "source": "import sys\n!{sys.executable} -m pip install beautifulsoup4\n!{sys.executable} -m pip install lxml\n!{sys.executable} -m pip install geocoder"
        },
        {
            "cell_type": "code",
            "execution_count": 2,
            "metadata": {},
            "outputs": [],
            "source": "from bs4 import BeautifulSoup\nimport requests\nimport pandas as pd\nimport geocoder"
        },
        {
            "cell_type": "code",
            "execution_count": 3,
            "metadata": {},
            "outputs": [],
            "source": "source = requests.get(\"https://en.wikipedia.org/wiki/List_of_postal_codes_of_Canada:_M\").text\nsoup = BeautifulSoup(source, \"lxml\")\nhtml_table = soup.table"
        },
        {
            "cell_type": "code",
            "execution_count": 4,
            "metadata": {},
            "outputs": [],
            "source": "postal_codes = pd.read_html(str(html_table))[0]\npostal_codes = postal_codes.loc[postal_codes.Borough != \"Not assigned\"]\npostal_list = postal_codes.loc[:,\"Postcode\"].drop_duplicates().to_list()"
        },
        {
            "cell_type": "markdown",
            "metadata": {},
            "source": "I request the data from wikipedia and take the first table found in the page, check that it's indeed the Postcode data set, drop missing values and make a list with all the unique values of the postcodes."
        },
        {
            "cell_type": "code",
            "execution_count": 5,
            "metadata": {},
            "outputs": [],
            "source": "list_of_df = list()\nfor postal_code in postal_list:\n    df = postal_codes.loc[postal_codes.Postcode == postal_code]\n    neighborhoods = ', '.join(df.loc[:,\"Neighbourhood\"].to_list())\n    df_2 = df.loc[:,[\"Postcode\",\"Borough\"]].drop_duplicates()\n    df_2[\"Neighborhoods\"] = neighborhoods\n    list_of_df.append(df_2)\npostal_codes = pd.concat(list_of_df)"
        },
        {
            "cell_type": "markdown",
            "metadata": {},
            "source": "To retrieve the data in the desired manner, I loop through the postcode list. For each value, I subset the original dataframe to get the name of the Borouh and a list of nieghborhoods, and then convert this list of neoghborhoods to a comma separated string and then assign it to the Neighborhood column. After doing this to everty postode, I concat all the data into a single data frame."
        },
        {
            "cell_type": "code",
            "execution_count": 6,
            "metadata": {},
            "outputs": [
                {
                    "data": {
                        "text/html": "<div>\n<style scoped>\n    .dataframe tbody tr th:only-of-type {\n        vertical-align: middle;\n    }\n\n    .dataframe tbody tr th {\n        vertical-align: top;\n    }\n\n    .dataframe thead th {\n        text-align: right;\n    }\n</style>\n<table border=\"1\" class=\"dataframe\">\n  <thead>\n    <tr style=\"text-align: right;\">\n      <th></th>\n      <th>Postcode</th>\n      <th>Borough</th>\n      <th>Neighborhoods</th>\n    </tr>\n  </thead>\n  <tbody>\n    <tr>\n      <th>114</th>\n      <td>M5L</td>\n      <td>Downtown Toronto</td>\n      <td>Commerce Court, Victoria Hotel</td>\n    </tr>\n    <tr>\n      <th>3</th>\n      <td>M4A</td>\n      <td>North York</td>\n      <td>Victoria Village</td>\n    </tr>\n    <tr>\n      <th>2</th>\n      <td>M3A</td>\n      <td>North York</td>\n      <td>Parkwoods</td>\n    </tr>\n    <tr>\n      <th>109</th>\n      <td>M2L</td>\n      <td>North York</td>\n      <td>Silver Hills, York Mills</td>\n    </tr>\n    <tr>\n      <th>76</th>\n      <td>M2J</td>\n      <td>North York</td>\n      <td>Fairview, Henry Farm, Oriole</td>\n    </tr>\n    <tr>\n      <th>155</th>\n      <td>M4P</td>\n      <td>Central Toronto</td>\n      <td>Davisville North</td>\n    </tr>\n    <tr>\n      <th>32</th>\n      <td>M4C</td>\n      <td>East York</td>\n      <td>Woodbine Heights</td>\n    </tr>\n    <tr>\n      <th>93</th>\n      <td>M2K</td>\n      <td>North York</td>\n      <td>Bayview Village</td>\n    </tr>\n    <tr>\n      <th>125</th>\n      <td>M2M</td>\n      <td>North York</td>\n      <td>Newtonbrook, Willowdale</td>\n    </tr>\n    <tr>\n      <th>248</th>\n      <td>M4X</td>\n      <td>Downtown Toronto</td>\n      <td>Cabbagetown, St. James Town</td>\n    </tr>\n    <tr>\n      <th>122</th>\n      <td>M1M</td>\n      <td>Scarborough</td>\n      <td>Cliffcrest, Cliffside, Scarborough Village West</td>\n    </tr>\n    <tr>\n      <th>4</th>\n      <td>M5A</td>\n      <td>Downtown Toronto</td>\n      <td>Harbourfront</td>\n    </tr>\n    <tr>\n      <th>235</th>\n      <td>M1W</td>\n      <td>Scarborough</td>\n      <td>L'Amoreaux West</td>\n    </tr>\n    <tr>\n      <th>94</th>\n      <td>M3K</td>\n      <td>North York</td>\n      <td>CFB Toronto, Downsview East</td>\n    </tr>\n    <tr>\n      <th>265</th>\n      <td>M8Y</td>\n      <td>Etobicoke</td>\n      <td>Humber Bay, King's Mill Park, Kingsway Park So...</td>\n    </tr>\n    <tr>\n      <th>55</th>\n      <td>M4G</td>\n      <td>East York</td>\n      <td>Leaside</td>\n    </tr>\n    <tr>\n      <th>46</th>\n      <td>M4E</td>\n      <td>East Toronto</td>\n      <td>The Beaches</td>\n    </tr>\n    <tr>\n      <th>129</th>\n      <td>M5M</td>\n      <td>North York</td>\n      <td>Bedford Park, Lawrence Manor East</td>\n    </tr>\n    <tr>\n      <th>41</th>\n      <td>M1E</td>\n      <td>Scarborough</td>\n      <td>Guildwood, Morningside, West Hill</td>\n    </tr>\n    <tr>\n      <th>227</th>\n      <td>M9V</td>\n      <td>Etobicoke</td>\n      <td>Albion Gardens, Beaumond Heights, Humbergate, ...</td>\n    </tr>\n  </tbody>\n</table>\n</div>",
                        "text/plain": "    Postcode           Borough  \\\n114      M5L  Downtown Toronto   \n3        M4A        North York   \n2        M3A        North York   \n109      M2L        North York   \n76       M2J        North York   \n155      M4P   Central Toronto   \n32       M4C         East York   \n93       M2K        North York   \n125      M2M        North York   \n248      M4X  Downtown Toronto   \n122      M1M       Scarborough   \n4        M5A  Downtown Toronto   \n235      M1W       Scarborough   \n94       M3K        North York   \n265      M8Y         Etobicoke   \n55       M4G         East York   \n46       M4E      East Toronto   \n129      M5M        North York   \n41       M1E       Scarborough   \n227      M9V         Etobicoke   \n\n                                         Neighborhoods  \n114                     Commerce Court, Victoria Hotel  \n3                                     Victoria Village  \n2                                            Parkwoods  \n109                           Silver Hills, York Mills  \n76                        Fairview, Henry Farm, Oriole  \n155                                   Davisville North  \n32                                    Woodbine Heights  \n93                                     Bayview Village  \n125                            Newtonbrook, Willowdale  \n248                        Cabbagetown, St. James Town  \n122    Cliffcrest, Cliffside, Scarborough Village West  \n4                                         Harbourfront  \n235                                    L'Amoreaux West  \n94                         CFB Toronto, Downsview East  \n265  Humber Bay, King's Mill Park, Kingsway Park So...  \n55                                             Leaside  \n46                                         The Beaches  \n129                  Bedford Park, Lawrence Manor East  \n41                   Guildwood, Morningside, West Hill  \n227  Albion Gardens, Beaumond Heights, Humbergate, ...  "
                    },
                    "execution_count": 6,
                    "metadata": {},
                    "output_type": "execute_result"
                }
            ],
            "source": "postal_codes.sample(20)"
        },
        {
            "cell_type": "code",
            "execution_count": 20,
            "metadata": {},
            "outputs": [
                {
                    "data": {
                        "text/plain": "(103, 5)"
                    },
                    "execution_count": 20,
                    "metadata": {},
                    "output_type": "execute_result"
                }
            ],
            "source": "postal_codes.shape"
        }
    ],
    "metadata": {
        "kernelspec": {
            "display_name": "Python 3.6",
            "language": "python",
            "name": "python3"
        },
        "language_info": {
            "codemirror_mode": {
                "name": "ipython",
                "version": 3
            },
            "file_extension": ".py",
            "mimetype": "text/x-python",
            "name": "python",
            "nbconvert_exporter": "python",
            "pygments_lexer": "ipython3",
            "version": "3.6.9"
        }
    },
    "nbformat": 4,
    "nbformat_minor": 1
}